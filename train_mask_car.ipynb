{
  "nbformat": 4,
  "nbformat_minor": 0,
  "metadata": {
    "accelerator": "GPU",
    "colab": {
      "name": "train_mask_car.ipynb",
      "provenance": [],
      "collapsed_sections": [],
      "include_colab_link": true
    },
    "kernelspec": {
      "display_name": "Python 3",
      "name": "python3"
    },
    "language_info": {
      "codemirror_mode": {
        "name": "ipython",
        "version": 3
      },
      "file_extension": ".py",
      "mimetype": "text/x-python",
      "name": "python",
      "nbconvert_exporter": "python",
      "pygments_lexer": "ipython3",
      "version": "3.7.4"
    }
  },
  "cells": [
    {
      "cell_type": "markdown",
      "metadata": {
        "id": "view-in-github",
        "colab_type": "text"
      },
      "source": [
        "<a href=\"https://colab.research.google.com/github/BLOSSOM1994/CarDivar-/blob/main/train_mask_car.ipynb\" target=\"_parent\"><img src=\"https://colab.research.google.com/assets/colab-badge.svg\" alt=\"Open In Colab\"/></a>"
      ]
    },
    {
      "cell_type": "markdown",
      "metadata": {
        "id": "9LJlvDUIM40S"
      },
      "source": [
        "## Load Mask RCNN into Google Colab"
      ]
    },
    {
      "cell_type": "code",
      "metadata": {
        "colab": {
          "base_uri": "https://localhost:8080/"
        },
        "id": "qQ3TkVnPUTXW",
        "outputId": "9fc000a2-734b-4e95-b16d-9a67cf7e5af9"
      },
      "source": [
        "!git clone https://github.com/BLOSSOM1994/Mask_RCNN.git"
      ],
      "execution_count": 1,
      "outputs": [
        {
          "output_type": "stream",
          "text": [
            "Cloning into 'Mask_RCNN'...\n",
            "remote: Enumerating objects: 973, done.\u001b[K\n",
            "remote: Total 973 (delta 0), reused 0 (delta 0), pack-reused 973\u001b[K\n",
            "Receiving objects: 100% (973/973), 125.23 MiB | 31.35 MiB/s, done.\n",
            "Resolving deltas: 100% (572/572), done.\n"
          ],
          "name": "stdout"
        }
      ]
    },
    {
      "cell_type": "markdown",
      "metadata": {
        "id": "p_ZklvupM_ST"
      },
      "source": [
        "## Set up the GPU Environment\n",
        "In Colabs go to:  \n",
        "Edit > Notebook Settings  \n",
        "Set the hardware accelerator to 'GPU' and reload the notebook. "
      ]
    },
    {
      "cell_type": "code",
      "metadata": {
        "colab": {
          "base_uri": "https://localhost:8080/"
        },
        "id": "QDyJKAJZmq8M",
        "outputId": "19cdc062-b85c-4e67-9d73-5faab2012ca9"
      },
      "source": [
        "#RUN GPU\n",
        "%tensorflow_version 1.x\n",
        "import tensorflow as tf\n",
        "device_name = tf.test.gpu_device_name()\n",
        "if device_name != '/device:GPU:0':\n",
        "  raise SystemError('GPU device not found')\n",
        "print('Found GPU at: {}'.format(device_name))"
      ],
      "execution_count": 2,
      "outputs": [
        {
          "output_type": "stream",
          "text": [
            "TensorFlow 1.x selected.\n",
            "Found GPU at: /device:GPU:0\n"
          ],
          "name": "stdout"
        }
      ]
    },
    {
      "cell_type": "markdown",
      "metadata": {
        "id": "L9TR3tlENFbR"
      },
      "source": [
        "## Move into the Mask RCNN directory and install the package"
      ]
    },
    {
      "cell_type": "code",
      "metadata": {
        "id": "wVOX_chSYdSZ"
      },
      "source": [
        "import os\n",
        "os.chdir('Mask_RCNN')"
      ],
      "execution_count": 3,
      "outputs": []
    },
    {
      "cell_type": "code",
      "metadata": {
        "colab": {
          "base_uri": "https://localhost:8080/"
        },
        "id": "QhqpV4bXY1dp",
        "outputId": "c1ed9f66-0ba8-404d-b914-ba82994ce669"
      },
      "source": [
        "!ls"
      ],
      "execution_count": 4,
      "outputs": [
        {
          "output_type": "stream",
          "text": [
            "assets\tLICENSE      mrcnn\trequirements.txt  setup.cfg\n",
            "images\tMANIFEST.in  README.md\tsamples\t\t  setup.py\n"
          ],
          "name": "stdout"
        }
      ]
    },
    {
      "cell_type": "code",
      "metadata": {
        "colab": {
          "base_uri": "https://localhost:8080/"
        },
        "id": "q6HXBYhDY-Jn",
        "outputId": "7f858925-1744-42a0-9088-c511aae7bfce"
      },
      "source": [
        "!python3 setup.py install;"
      ],
      "execution_count": 5,
      "outputs": [
        {
          "output_type": "stream",
          "text": [
            "WARNING:root:Fail load requirements file, so using default ones.\n",
            "/usr/local/lib/python3.7/dist-packages/setuptools/dist.py:645: UserWarning: Usage of dash-separated 'description-file' will not be supported in future versions. Please use the underscore name 'description_file' instead\n",
            "  % (opt, underscore_opt))\n",
            "/usr/local/lib/python3.7/dist-packages/setuptools/dist.py:645: UserWarning: Usage of dash-separated 'license-file' will not be supported in future versions. Please use the underscore name 'license_file' instead\n",
            "  % (opt, underscore_opt))\n",
            "/usr/local/lib/python3.7/dist-packages/setuptools/dist.py:645: UserWarning: Usage of dash-separated 'requirements-file' will not be supported in future versions. Please use the underscore name 'requirements_file' instead\n",
            "  % (opt, underscore_opt))\n",
            "running install\n",
            "running bdist_egg\n",
            "running egg_info\n",
            "creating mask_rcnn.egg-info\n",
            "writing mask_rcnn.egg-info/PKG-INFO\n",
            "writing dependency_links to mask_rcnn.egg-info/dependency_links.txt\n",
            "writing top-level names to mask_rcnn.egg-info/top_level.txt\n",
            "writing manifest file 'mask_rcnn.egg-info/SOURCES.txt'\n",
            "reading manifest template 'MANIFEST.in'\n",
            "writing manifest file 'mask_rcnn.egg-info/SOURCES.txt'\n",
            "installing library code to build/bdist.linux-x86_64/egg\n",
            "running install_lib\n",
            "running build_py\n",
            "creating build\n",
            "creating build/lib\n",
            "creating build/lib/mrcnn\n",
            "copying mrcnn/visualize.py -> build/lib/mrcnn\n",
            "copying mrcnn/parallel_model.py -> build/lib/mrcnn\n",
            "copying mrcnn/__init__.py -> build/lib/mrcnn\n",
            "copying mrcnn/model.py -> build/lib/mrcnn\n",
            "copying mrcnn/config.py -> build/lib/mrcnn\n",
            "copying mrcnn/utils.py -> build/lib/mrcnn\n",
            "creating build/bdist.linux-x86_64\n",
            "creating build/bdist.linux-x86_64/egg\n",
            "creating build/bdist.linux-x86_64/egg/mrcnn\n",
            "copying build/lib/mrcnn/visualize.py -> build/bdist.linux-x86_64/egg/mrcnn\n",
            "copying build/lib/mrcnn/parallel_model.py -> build/bdist.linux-x86_64/egg/mrcnn\n",
            "copying build/lib/mrcnn/__init__.py -> build/bdist.linux-x86_64/egg/mrcnn\n",
            "copying build/lib/mrcnn/model.py -> build/bdist.linux-x86_64/egg/mrcnn\n",
            "copying build/lib/mrcnn/config.py -> build/bdist.linux-x86_64/egg/mrcnn\n",
            "copying build/lib/mrcnn/utils.py -> build/bdist.linux-x86_64/egg/mrcnn\n",
            "byte-compiling build/bdist.linux-x86_64/egg/mrcnn/visualize.py to visualize.cpython-37.pyc\n",
            "byte-compiling build/bdist.linux-x86_64/egg/mrcnn/parallel_model.py to parallel_model.cpython-37.pyc\n",
            "byte-compiling build/bdist.linux-x86_64/egg/mrcnn/__init__.py to __init__.cpython-37.pyc\n",
            "byte-compiling build/bdist.linux-x86_64/egg/mrcnn/model.py to model.cpython-37.pyc\n",
            "byte-compiling build/bdist.linux-x86_64/egg/mrcnn/config.py to config.cpython-37.pyc\n",
            "byte-compiling build/bdist.linux-x86_64/egg/mrcnn/utils.py to utils.cpython-37.pyc\n",
            "creating build/bdist.linux-x86_64/egg/EGG-INFO\n",
            "copying mask_rcnn.egg-info/PKG-INFO -> build/bdist.linux-x86_64/egg/EGG-INFO\n",
            "copying mask_rcnn.egg-info/SOURCES.txt -> build/bdist.linux-x86_64/egg/EGG-INFO\n",
            "copying mask_rcnn.egg-info/dependency_links.txt -> build/bdist.linux-x86_64/egg/EGG-INFO\n",
            "copying mask_rcnn.egg-info/top_level.txt -> build/bdist.linux-x86_64/egg/EGG-INFO\n",
            "zip_safe flag not set; analyzing archive contents...\n",
            "creating dist\n",
            "creating 'dist/mask_rcnn-2.1-py3.7.egg' and adding 'build/bdist.linux-x86_64/egg' to it\n",
            "removing 'build/bdist.linux-x86_64/egg' (and everything under it)\n",
            "Processing mask_rcnn-2.1-py3.7.egg\n",
            "Copying mask_rcnn-2.1-py3.7.egg to /usr/local/lib/python3.7/dist-packages\n",
            "Adding mask-rcnn 2.1 to easy-install.pth file\n",
            "\n",
            "Installed /usr/local/lib/python3.7/dist-packages/mask_rcnn-2.1-py3.7.egg\n",
            "Processing dependencies for mask-rcnn==2.1\n",
            "Finished processing dependencies for mask-rcnn==2.1\n"
          ],
          "name": "stdout"
        }
      ]
    },
    {
      "cell_type": "markdown",
      "metadata": {
        "id": "isg3ROVwNU10"
      },
      "source": [
        "## Load Modules"
      ]
    },
    {
      "cell_type": "code",
      "metadata": {
        "colab": {
          "base_uri": "https://localhost:8080/"
        },
        "id": "KQuRm7a5ZCt2",
        "outputId": "12cfc2fd-a54c-453f-a226-c3b4f0bdd939"
      },
      "source": [
        "import mrcnn\n",
        "import mrcnn.model as modellib\n",
        "from mrcnn.config import Config\n",
        "from mrcnn import utils\n",
        "from mrcnn.model import MaskRCNN\n",
        "\n",
        "import numpy as np\n",
        "import colorsys\n",
        "import argparse\n",
        "import random\n",
        "import os\n",
        "import sys\n",
        "import time\n",
        "import json\n",
        "import skimage\n",
        "import datetime\n",
        "from keras.models import load_model\n"
      ],
      "execution_count": 6,
      "outputs": [
        {
          "output_type": "stream",
          "text": [
            "Using TensorFlow backend.\n"
          ],
          "name": "stderr"
        }
      ]
    },
    {
      "cell_type": "markdown",
      "metadata": {
        "id": "NZT1tDtuNZPp"
      },
      "source": [
        "## Link Google Drive and set up directories"
      ]
    },
    {
      "cell_type": "code",
      "metadata": {
        "colab": {
          "base_uri": "https://localhost:8080/"
        },
        "id": "Y_QWmrrDN-EJ",
        "outputId": "86c464b8-92c0-4727-a432-25854ce0d321"
      },
      "source": [
        "from google.colab import drive\n",
        "drive.mount('/content/drive')"
      ],
      "execution_count": 7,
      "outputs": [
        {
          "output_type": "stream",
          "text": [
            "Mounted at /content/drive\n"
          ],
          "name": "stdout"
        }
      ]
    },
    {
      "cell_type": "markdown",
      "metadata": {
        "id": "Q_-yptDFNjOK"
      },
      "source": [
        "## Define the Config and Dataset classes"
      ]
    },
    {
      "cell_type": "code",
      "metadata": {
        "colab": {
          "base_uri": "https://localhost:8080/"
        },
        "id": "0bHXhRkcdM5H",
        "outputId": "6c817705-a0ee-488f-8754-b17f843bd125"
      },
      "source": [
        "class myMaskRCNNConfig(Config):\n",
        "    NAME = \"MaskRCNN_config\"\n",
        " \n",
        "    # set the number of GPUs to use along with the number of images\n",
        "    # per GPU\n",
        "    # Colabs provides a 12GB GPU which should fit 2 images\n",
        "    GPU_COUNT = 1\n",
        "    IMAGES_PER_GPU = 2\n",
        " \n",
        "    # number of classes (we would normally add +1 for the background)\n",
        "    # COVID + BG\n",
        "    NUM_CLASSES = 1+1\n",
        "   \n",
        "    # Number of training steps per epoch (set to number of training samples)\n",
        "    STEPS_PER_EPOCH = 80\n",
        "    \n",
        "    # Learning rate (reduce to stop NaN losses)\n",
        "    LEARNING_RATE=0.001\n",
        "    \n",
        "    # Skip detections with < 90% confidence\n",
        "    DETECTION_MIN_CONFIDENCE = 0.9\n",
        "    \n",
        "    # setting Max ground truth instances\n",
        "    MAX_GT_INSTANCES=10\n",
        "    \n",
        "config = myMaskRCNNConfig()\n",
        "config.display()\n",
        "\n",
        "check=[]\n",
        "class NissanDataset(utils.Dataset):\n",
        "\n",
        "    def load_dataset(self, dataset_dir):\n",
        "        \"\"\"\n",
        "        Load the images and annotations from Google Drive\n",
        "        The mask coordinates are save in 'polygons'\n",
        "        \"\"\"\n",
        "\n",
        "        self.add_class(\"Nissan\", 1, \"Nissan\")\n",
        "\n",
        "        # Load annotations\n",
        "        # VGG Image Annotator saves each image in the form:\n",
        "        # { 'filename': '28503151_5b5b7ec140_b.jpg',\n",
        "        #   'regions': {\n",
        "        #       '0': {\n",
        "        #           'region_attributes': {},\n",
        "        #           'shape_attributes': {\n",
        "        #               'all_points_x': [...],\n",
        "        #               'all_points_y': [...],\n",
        "        #               'name': 'polygon'}},\n",
        "        #       ... more regions ...\n",
        "        #   },\n",
        "        #   'size': 100202\n",
        "        # }\n",
        "        # We mostly care about the x and y coordinates of each region\n",
        "        annotations = json.load(open(os.path.join(homedir, \"nissan_json.json\")))\n",
        "        annotations = list(annotations.values())  # don't need the dict keys\n",
        "\n",
        "        # The VIA tool saves images in the JSON even if they don't have any\n",
        "        # annotations. Skip unannotated images.\n",
        "        annotations = [a for a in annotations if a['regions']]\n",
        "        for a in annotations:\n",
        "            if a['filename'] in os.listdir(dataset_dir):\n",
        "                # Get the x, y coordinates of points of the polygons that make up\n",
        "                # the outline of each object instance. These are stored in the\n",
        "                # shape_attributes (see json format above)\n",
        "        \n",
        "                if type(a['regions']) is dict:\n",
        "                        polygons = [r['shape_attributes'] for r in a['regions'].values()]\n",
        "                else:\n",
        "                        polygons = [r['shape_attributes'] for r in a['regions']]\n",
        "        \n",
        "                # load_mask() needs the image size to convert polygons to masks.\n",
        "                # Unfortunately, VIA doesn't include it in JSON, so we must read\n",
        "                # the image. This is only managable since the dataset is tiny.\n",
        "                image_path = os.path.join(dataset_dir, a['filename'])\n",
        "                image = skimage.io.imread(image_path)\n",
        "                height, width = image.shape[:2]\n",
        "    \n",
        "                self.add_image(\n",
        "                    \"Nissan\",\n",
        "                    image_id=a['filename'],\n",
        "                    path=image_path,\n",
        "                    width=width, height=height,\n",
        "                    polygons=polygons)\n",
        "\n",
        "    def load_mask(self, image_id):\n",
        "        \"\"\"\n",
        "        Generate instance masks for an image.\n",
        "        \n",
        "        Returns:\n",
        "        \n",
        "        masks: A bool array of shape [height, width, instance count] with\n",
        "               one mask per instance.\n",
        "        \n",
        "        class_ids: a 1D array of class IDs of the instance masks.\n",
        "        \n",
        "        \"\"\"\n",
        "        # If not a Nissan dataset image, delegate to background class.\n",
        "        image_info = self.image_info[image_id]\n",
        "        if image_info[\"source\"] != \"Nissan\":\n",
        "            print('not a Nissan!')\n",
        "            return super(self.__class__, self).load_mask(image_id)\n",
        "\n",
        "        # Convert polygons to a bitmap mask of shape\n",
        "        info = self.image_info[image_id]\n",
        "        mask = np.zeros([info[\"height\"], info[\"width\"], len(info[\"polygons\"])],\n",
        "                        dtype=np.uint8)\n",
        "\n",
        "        class_id=[]\n",
        "        for i, p in enumerate(info[\"polygons\"]):\n",
        "            # Get indexes of pixels inside the polygon and set them to 1\n",
        "            rr, cc = skimage.draw.polygon(p['all_points_y'], p['all_points_x'])\n",
        "            mask[rr, cc, i] = 1\n",
        "            class_id.append(self.class_names.index('Nissan'))\n",
        "\n",
        "        # Return mask, and array of class IDs of each instance. Since we have\n",
        "        # one class ID only, we return an array of 1s\n",
        "        return mask, np.ones([mask.shape[-1]], dtype=np.int32)\n",
        "\n",
        "    def image_reference(self, image_id):\n",
        "        \"\"\"Return the path of the image.\"\"\"\n",
        "        info = self.image_info[image_id]\n",
        "        if info[\"source\"] == \"Nissan\":\n",
        "            return info[\"path\"]\n",
        "        else:\n",
        "            super(self.__class__, self).image_reference(image_id)"
      ],
      "execution_count": 17,
      "outputs": [
        {
          "output_type": "stream",
          "text": [
            "\n",
            "Configurations:\n",
            "BACKBONE                       resnet101\n",
            "BACKBONE_STRIDES               [4, 8, 16, 32, 64]\n",
            "BATCH_SIZE                     2\n",
            "BBOX_STD_DEV                   [0.1 0.1 0.2 0.2]\n",
            "COMPUTE_BACKBONE_SHAPE         None\n",
            "DETECTION_MAX_INSTANCES        100\n",
            "DETECTION_MIN_CONFIDENCE       0.9\n",
            "DETECTION_NMS_THRESHOLD        0.3\n",
            "FPN_CLASSIF_FC_LAYERS_SIZE     1024\n",
            "GPU_COUNT                      1\n",
            "GRADIENT_CLIP_NORM             5.0\n",
            "IMAGES_PER_GPU                 2\n",
            "IMAGE_CHANNEL_COUNT            3\n",
            "IMAGE_MAX_DIM                  1024\n",
            "IMAGE_META_SIZE                14\n",
            "IMAGE_MIN_DIM                  800\n",
            "IMAGE_MIN_SCALE                0\n",
            "IMAGE_RESIZE_MODE              square\n",
            "IMAGE_SHAPE                    [1024 1024    3]\n",
            "LEARNING_MOMENTUM              0.9\n",
            "LEARNING_RATE                  0.001\n",
            "LOSS_WEIGHTS                   {'rpn_class_loss': 1.0, 'rpn_bbox_loss': 1.0, 'mrcnn_class_loss': 1.0, 'mrcnn_bbox_loss': 1.0, 'mrcnn_mask_loss': 1.0}\n",
            "MASK_POOL_SIZE                 14\n",
            "MASK_SHAPE                     [28, 28]\n",
            "MAX_GT_INSTANCES               10\n",
            "MEAN_PIXEL                     [123.7 116.8 103.9]\n",
            "MINI_MASK_SHAPE                (56, 56)\n",
            "NAME                           MaskRCNN_config\n",
            "NUM_CLASSES                    2\n",
            "POOL_SIZE                      7\n",
            "POST_NMS_ROIS_INFERENCE        1000\n",
            "POST_NMS_ROIS_TRAINING         2000\n",
            "PRE_NMS_LIMIT                  6000\n",
            "ROI_POSITIVE_RATIO             0.33\n",
            "RPN_ANCHOR_RATIOS              [0.5, 1, 2]\n",
            "RPN_ANCHOR_SCALES              (32, 64, 128, 256, 512)\n",
            "RPN_ANCHOR_STRIDE              1\n",
            "RPN_BBOX_STD_DEV               [0.1 0.1 0.2 0.2]\n",
            "RPN_NMS_THRESHOLD              0.7\n",
            "RPN_TRAIN_ANCHORS_PER_IMAGE    256\n",
            "STEPS_PER_EPOCH                80\n",
            "TOP_DOWN_PYRAMID_SIZE          256\n",
            "TRAIN_BN                       False\n",
            "TRAIN_ROIS_PER_IMAGE           200\n",
            "USE_MINI_MASK                  True\n",
            "USE_RPN_ROIS                   True\n",
            "VALIDATION_STEPS               50\n",
            "WEIGHT_DECAY                   0.0001\n",
            "\n",
            "\n"
          ],
          "name": "stdout"
        }
      ]
    },
    {
      "cell_type": "code",
      "metadata": {
        "id": "sgSrZ5BMa-CP"
      },
      "source": [
        "homedir='/content/drive/MyDrive/Colab Notebooks/Data/'\n",
        "datadir=homedir+'Car_test/'"
      ],
      "execution_count": 14,
      "outputs": []
    },
    {
      "cell_type": "code",
      "metadata": {
        "colab": {
          "base_uri": "https://localhost:8080/"
        },
        "id": "4_1NIQfxNQeH",
        "outputId": "c747520c-23be-4bb2-89f2-0f964612be4a"
      },
      "source": [
        "os.listdir(datadir)"
      ],
      "execution_count": 15,
      "outputs": [
        {
          "output_type": "execute_result",
          "data": {
            "text/plain": [
              "['train', 'test', 'predict']"
            ]
          },
          "metadata": {
            "tags": []
          },
          "execution_count": 15
        }
      ]
    },
    {
      "cell_type": "code",
      "metadata": {
        "id": "XDgXYJTJc8kD"
      },
      "source": [
        "#files need to be accessed using os !ls does not work.\n",
        "#os.listdir(homedir)"
      ],
      "execution_count": 11,
      "outputs": []
    },
    {
      "cell_type": "markdown",
      "metadata": {
        "id": "2mFIBpX7Nusc"
      },
      "source": [
        "# Prepare the Training and Test Sets"
      ]
    },
    {
      "cell_type": "code",
      "metadata": {
        "colab": {
          "base_uri": "https://localhost:8080/"
        },
        "id": "Zh84_nepd1XG",
        "outputId": "42bcc5d2-b612-4005-8607-bfd972ca716f"
      },
      "source": [
        "# prepare train set\n",
        "train_set = NissanDataset()\n",
        "train_set.load_dataset(datadir+'train')\n",
        "train_set.prepare()\n",
        "print('Train: %d' % len(train_set.image_ids))\n",
        "# prepare test/val set\n",
        "test_set = NissanDataset()\n",
        "test_set.load_dataset(datadir+'test')\n",
        "test_set.prepare()\n",
        "print('Test: %d' % len(test_set.image_ids))"
      ],
      "execution_count": 18,
      "outputs": [
        {
          "output_type": "stream",
          "text": [
            "Train: 20\n",
            "Test: 3\n"
          ],
          "name": "stdout"
        }
      ]
    },
    {
      "cell_type": "markdown",
      "metadata": {
        "id": "aomxEhkBVLWT"
      },
      "source": [
        "# Prepare the Training Model:"
      ]
    },
    {
      "cell_type": "code",
      "metadata": {
        "colab": {
          "base_uri": "https://localhost:8080/"
        },
        "id": "2tgqfZMZd5t1",
        "outputId": "c22b4175-9e81-4233-a5a7-ae4687b02782"
      },
      "source": [
        "print(\"Loading Mask R-CNN model...\")\n",
        "model = modellib.MaskRCNN(mode=\"training\", config=config, model_dir='./')\n",
        "homed='/content/drive/MyDrive/Colab Notebooks'\n",
        "#load the weights for COCO\n",
        "model.load_weights(homed+'/mask_rcnn_coco.h5', \n",
        "                   by_name=True, \n",
        "                   exclude=[\"mrcnn_class_logits\", \"mrcnn_bbox_fc\",  \"mrcnn_bbox\", \"mrcnn_mask\"])"
      ],
      "execution_count": 20,
      "outputs": [
        {
          "output_type": "stream",
          "text": [
            "Loading Mask R-CNN model...\n"
          ],
          "name": "stdout"
        }
      ]
    },
    {
      "cell_type": "markdown",
      "metadata": {
        "id": "YZgxO4HnVRlg"
      },
      "source": [
        "## Train the Model:\n",
        "If you begin to encounter NaNs in your loss values, try lowering the learning rate by 4 or so times. "
      ]
    },
    {
      "cell_type": "code",
      "metadata": {
        "colab": {
          "base_uri": "https://localhost:8080/"
        },
        "id": "NW59utIre5zI",
        "outputId": "f3e4876c-3542-46c1-b709-1183f9726dd2"
      },
      "source": [
        "# train heads with higher lr to speedup the learning\n",
        "\n",
        "model.train(train_set, test_set, learning_rate=2*config.LEARNING_RATE, epochs=25, layers='heads')\n",
        "history = model.keras_model.history.history"
      ],
      "execution_count": 21,
      "outputs": [
        {
          "output_type": "stream",
          "text": [
            "\n",
            "Starting at epoch 0. LR=0.002\n",
            "\n",
            "Checkpoint Path: ./maskrcnn_config20210403T1603/mask_rcnn_maskrcnn_config_{epoch:04d}.h5\n",
            "Selecting layers to train\n",
            "fpn_c5p5               (Conv2D)\n",
            "fpn_c4p4               (Conv2D)\n",
            "fpn_c3p3               (Conv2D)\n",
            "fpn_c2p2               (Conv2D)\n",
            "fpn_p5                 (Conv2D)\n",
            "fpn_p2                 (Conv2D)\n",
            "fpn_p3                 (Conv2D)\n",
            "fpn_p4                 (Conv2D)\n",
            "In model:  rpn_model\n",
            "    rpn_conv_shared        (Conv2D)\n",
            "    rpn_class_raw          (Conv2D)\n",
            "    rpn_bbox_pred          (Conv2D)\n",
            "mrcnn_mask_conv1       (TimeDistributed)\n",
            "mrcnn_mask_bn1         (TimeDistributed)\n",
            "mrcnn_mask_conv2       (TimeDistributed)\n",
            "mrcnn_mask_bn2         (TimeDistributed)\n",
            "mrcnn_class_conv1      (TimeDistributed)\n",
            "mrcnn_class_bn1        (TimeDistributed)\n",
            "mrcnn_mask_conv3       (TimeDistributed)\n",
            "mrcnn_mask_bn3         (TimeDistributed)\n",
            "mrcnn_class_conv2      (TimeDistributed)\n",
            "mrcnn_class_bn2        (TimeDistributed)\n",
            "mrcnn_mask_conv4       (TimeDistributed)\n",
            "mrcnn_mask_bn4         (TimeDistributed)\n",
            "mrcnn_bbox_fc          (TimeDistributed)\n",
            "mrcnn_mask_deconv      (TimeDistributed)\n",
            "mrcnn_class_logits     (TimeDistributed)\n",
            "mrcnn_mask             (TimeDistributed)\n"
          ],
          "name": "stdout"
        },
        {
          "output_type": "stream",
          "text": [
            "/tensorflow-1.15.2/python3.7/tensorflow_core/python/framework/indexed_slices.py:424: UserWarning: Converting sparse IndexedSlices to a dense Tensor of unknown shape. This may consume a large amount of memory.\n",
            "  \"Converting sparse IndexedSlices to a dense Tensor of unknown shape. \"\n",
            "/tensorflow-1.15.2/python3.7/tensorflow_core/python/framework/indexed_slices.py:424: UserWarning: Converting sparse IndexedSlices to a dense Tensor of unknown shape. This may consume a large amount of memory.\n",
            "  \"Converting sparse IndexedSlices to a dense Tensor of unknown shape. \"\n",
            "/tensorflow-1.15.2/python3.7/tensorflow_core/python/framework/indexed_slices.py:424: UserWarning: Converting sparse IndexedSlices to a dense Tensor of unknown shape. This may consume a large amount of memory.\n",
            "  \"Converting sparse IndexedSlices to a dense Tensor of unknown shape. \"\n"
          ],
          "name": "stderr"
        },
        {
          "output_type": "stream",
          "text": [
            "WARNING:tensorflow:From /tensorflow-1.15.2/python3.7/keras/backend/tensorflow_backend.py:422: The name tf.global_variables is deprecated. Please use tf.compat.v1.global_variables instead.\n",
            "\n",
            "WARNING:tensorflow:From /tensorflow-1.15.2/python3.7/keras/backend/tensorflow_backend.py:431: The name tf.is_variable_initialized is deprecated. Please use tf.compat.v1.is_variable_initialized instead.\n",
            "\n",
            "WARNING:tensorflow:From /tensorflow-1.15.2/python3.7/keras/backend/tensorflow_backend.py:438: The name tf.variables_initializer is deprecated. Please use tf.compat.v1.variables_initializer instead.\n",
            "\n",
            "WARNING:tensorflow:From /tensorflow-1.15.2/python3.7/keras/callbacks/tensorboard_v1.py:200: The name tf.summary.merge_all is deprecated. Please use tf.compat.v1.summary.merge_all instead.\n",
            "\n",
            "WARNING:tensorflow:From /tensorflow-1.15.2/python3.7/keras/callbacks/tensorboard_v1.py:203: The name tf.summary.FileWriter is deprecated. Please use tf.compat.v1.summary.FileWriter instead.\n",
            "\n"
          ],
          "name": "stdout"
        },
        {
          "output_type": "stream",
          "text": [
            "/tensorflow-1.15.2/python3.7/keras/engine/training_generator.py:49: UserWarning: Using a generator with `use_multiprocessing=True` and multiple workers may duplicate your data. Please consider using the `keras.utils.Sequence class.\n",
            "  UserWarning('Using a generator with `use_multiprocessing=True`'\n"
          ],
          "name": "stderr"
        },
        {
          "output_type": "stream",
          "text": [
            "Epoch 1/25\n",
            "80/80 [==============================] - 74s 926ms/step - loss: 0.9332 - rpn_class_loss: 0.0078 - rpn_bbox_loss: 0.2200 - mrcnn_class_loss: 0.0353 - mrcnn_bbox_loss: 0.3743 - mrcnn_mask_loss: 0.2958 - val_loss: 0.3321 - val_rpn_class_loss: 0.0056 - val_rpn_bbox_loss: 0.0998 - val_mrcnn_class_loss: 0.0161 - val_mrcnn_bbox_loss: 0.0968 - val_mrcnn_mask_loss: 0.0834\n",
            "WARNING:tensorflow:From /tensorflow-1.15.2/python3.7/keras/callbacks/tensorboard_v1.py:343: The name tf.Summary is deprecated. Please use tf.compat.v1.Summary instead.\n",
            "\n",
            "Epoch 2/25\n",
            "80/80 [==============================] - 57s 709ms/step - loss: 0.4133 - rpn_class_loss: 0.0058 - rpn_bbox_loss: 0.1934 - mrcnn_class_loss: 0.0157 - mrcnn_bbox_loss: 0.1105 - mrcnn_mask_loss: 0.0879 - val_loss: 0.2906 - val_rpn_class_loss: 0.0060 - val_rpn_bbox_loss: 0.1003 - val_mrcnn_class_loss: 0.0136 - val_mrcnn_bbox_loss: 0.0909 - val_mrcnn_mask_loss: 0.0700\n",
            "Epoch 3/25\n",
            "80/80 [==============================] - 57s 713ms/step - loss: 0.3319 - rpn_class_loss: 0.0051 - rpn_bbox_loss: 0.1853 - mrcnn_class_loss: 0.0138 - mrcnn_bbox_loss: 0.0583 - mrcnn_mask_loss: 0.0695 - val_loss: 0.2300 - val_rpn_class_loss: 0.0040 - val_rpn_bbox_loss: 0.0685 - val_mrcnn_class_loss: 0.0073 - val_mrcnn_bbox_loss: 0.0848 - val_mrcnn_mask_loss: 0.0623\n",
            "Epoch 4/25\n",
            "80/80 [==============================] - 57s 710ms/step - loss: 0.1788 - rpn_class_loss: 0.0040 - rpn_bbox_loss: 0.0853 - mrcnn_class_loss: 0.0102 - mrcnn_bbox_loss: 0.0223 - mrcnn_mask_loss: 0.0570 - val_loss: 0.1164 - val_rpn_class_loss: 0.0039 - val_rpn_bbox_loss: 0.0478 - val_mrcnn_class_loss: 0.0097 - val_mrcnn_bbox_loss: 0.0093 - val_mrcnn_mask_loss: 0.0500\n",
            "Epoch 5/25\n",
            "80/80 [==============================] - 57s 709ms/step - loss: 0.0860 - rpn_class_loss: 0.0033 - rpn_bbox_loss: 0.0206 - mrcnn_class_loss: 0.0071 - mrcnn_bbox_loss: 0.0081 - mrcnn_mask_loss: 0.0470 - val_loss: 0.0561 - val_rpn_class_loss: 0.0017 - val_rpn_bbox_loss: 0.0058 - val_mrcnn_class_loss: 0.0052 - val_mrcnn_bbox_loss: 0.0031 - val_mrcnn_mask_loss: 0.0423\n",
            "Epoch 6/25\n",
            "80/80 [==============================] - 57s 710ms/step - loss: 0.0617 - rpn_class_loss: 0.0020 - rpn_bbox_loss: 0.0056 - mrcnn_class_loss: 0.0067 - mrcnn_bbox_loss: 0.0049 - mrcnn_mask_loss: 0.0423 - val_loss: 0.0511 - val_rpn_class_loss: 0.0014 - val_rpn_bbox_loss: 0.0049 - val_mrcnn_class_loss: 0.0054 - val_mrcnn_bbox_loss: 0.0050 - val_mrcnn_mask_loss: 0.0367\n",
            "Epoch 7/25\n",
            "80/80 [==============================] - 57s 713ms/step - loss: 0.0812 - rpn_class_loss: 0.0023 - rpn_bbox_loss: 0.0200 - mrcnn_class_loss: 0.0055 - mrcnn_bbox_loss: 0.0133 - mrcnn_mask_loss: 0.0400 - val_loss: 0.1065 - val_rpn_class_loss: 0.0014 - val_rpn_bbox_loss: 0.0372 - val_mrcnn_class_loss: 0.0042 - val_mrcnn_bbox_loss: 0.0123 - val_mrcnn_mask_loss: 0.0420\n",
            "Epoch 8/25\n",
            "80/80 [==============================] - 57s 712ms/step - loss: 0.0773 - rpn_class_loss: 0.0026 - rpn_bbox_loss: 0.0205 - mrcnn_class_loss: 0.0052 - mrcnn_bbox_loss: 0.0087 - mrcnn_mask_loss: 0.0402 - val_loss: 0.0623 - val_rpn_class_loss: 0.0011 - val_rpn_bbox_loss: 0.0092 - val_mrcnn_class_loss: 0.0041 - val_mrcnn_bbox_loss: 0.0054 - val_mrcnn_mask_loss: 0.0395\n",
            "Epoch 9/25\n",
            "80/80 [==============================] - 57s 710ms/step - loss: 0.0512 - rpn_class_loss: 0.0018 - rpn_bbox_loss: 0.0042 - mrcnn_class_loss: 0.0045 - mrcnn_bbox_loss: 0.0051 - mrcnn_mask_loss: 0.0356 - val_loss: 0.0432 - val_rpn_class_loss: 0.0018 - val_rpn_bbox_loss: 0.0020 - val_mrcnn_class_loss: 0.0049 - val_mrcnn_bbox_loss: 0.0030 - val_mrcnn_mask_loss: 0.0371\n",
            "Epoch 10/25\n",
            "80/80 [==============================] - 57s 711ms/step - loss: 0.0463 - rpn_class_loss: 0.0016 - rpn_bbox_loss: 0.0017 - mrcnn_class_loss: 0.0052 - mrcnn_bbox_loss: 0.0031 - mrcnn_mask_loss: 0.0348 - val_loss: 0.0388 - val_rpn_class_loss: 0.0016 - val_rpn_bbox_loss: 0.0013 - val_mrcnn_class_loss: 0.0052 - val_mrcnn_bbox_loss: 0.0023 - val_mrcnn_mask_loss: 0.0348\n",
            "Epoch 11/25\n",
            "80/80 [==============================] - 57s 712ms/step - loss: 0.0439 - rpn_class_loss: 0.0017 - rpn_bbox_loss: 0.0020 - mrcnn_class_loss: 0.0044 - mrcnn_bbox_loss: 0.0028 - mrcnn_mask_loss: 0.0331 - val_loss: 0.0453 - val_rpn_class_loss: 0.0011 - val_rpn_bbox_loss: 0.0020 - val_mrcnn_class_loss: 0.0034 - val_mrcnn_bbox_loss: 0.0030 - val_mrcnn_mask_loss: 0.0320\n",
            "Epoch 12/25\n",
            "80/80 [==============================] - 57s 710ms/step - loss: 0.0435 - rpn_class_loss: 0.0014 - rpn_bbox_loss: 0.0029 - mrcnn_class_loss: 0.0049 - mrcnn_bbox_loss: 0.0033 - mrcnn_mask_loss: 0.0310 - val_loss: 0.0395 - val_rpn_class_loss: 0.0015 - val_rpn_bbox_loss: 0.0040 - val_mrcnn_class_loss: 0.0023 - val_mrcnn_bbox_loss: 0.0027 - val_mrcnn_mask_loss: 0.0297\n",
            "Epoch 13/25\n",
            "80/80 [==============================] - 57s 708ms/step - loss: 0.0419 - rpn_class_loss: 0.0013 - rpn_bbox_loss: 0.0022 - mrcnn_class_loss: 0.0043 - mrcnn_bbox_loss: 0.0029 - mrcnn_mask_loss: 0.0311 - val_loss: 0.0436 - val_rpn_class_loss: 0.0021 - val_rpn_bbox_loss: 0.0045 - val_mrcnn_class_loss: 0.0040 - val_mrcnn_bbox_loss: 0.0033 - val_mrcnn_mask_loss: 0.0311\n",
            "Epoch 14/25\n",
            "80/80 [==============================] - 57s 706ms/step - loss: 0.0575 - rpn_class_loss: 0.0021 - rpn_bbox_loss: 0.0112 - mrcnn_class_loss: 0.0041 - mrcnn_bbox_loss: 0.0101 - mrcnn_mask_loss: 0.0300 - val_loss: 0.0544 - val_rpn_class_loss: 0.0012 - val_rpn_bbox_loss: 0.0096 - val_mrcnn_class_loss: 0.0021 - val_mrcnn_bbox_loss: 0.0203 - val_mrcnn_mask_loss: 0.0292\n",
            "Epoch 15/25\n",
            "80/80 [==============================] - 57s 708ms/step - loss: 0.0658 - rpn_class_loss: 0.0011 - rpn_bbox_loss: 0.0166 - mrcnn_class_loss: 0.0048 - mrcnn_bbox_loss: 0.0104 - mrcnn_mask_loss: 0.0329 - val_loss: 0.0533 - val_rpn_class_loss: 0.0017 - val_rpn_bbox_loss: 0.0092 - val_mrcnn_class_loss: 0.0037 - val_mrcnn_bbox_loss: 0.0034 - val_mrcnn_mask_loss: 0.0288\n",
            "Epoch 16/25\n",
            "80/80 [==============================] - 57s 709ms/step - loss: 0.0548 - rpn_class_loss: 0.0015 - rpn_bbox_loss: 0.0125 - mrcnn_class_loss: 0.0045 - mrcnn_bbox_loss: 0.0053 - mrcnn_mask_loss: 0.0310 - val_loss: 0.0341 - val_rpn_class_loss: 8.3874e-04 - val_rpn_bbox_loss: 0.0019 - val_mrcnn_class_loss: 0.0041 - val_mrcnn_bbox_loss: 0.0023 - val_mrcnn_mask_loss: 0.0285\n",
            "Epoch 17/25\n",
            "80/80 [==============================] - 57s 710ms/step - loss: 0.0405 - rpn_class_loss: 0.0020 - rpn_bbox_loss: 0.0025 - mrcnn_class_loss: 0.0040 - mrcnn_bbox_loss: 0.0027 - mrcnn_mask_loss: 0.0294 - val_loss: 0.0386 - val_rpn_class_loss: 0.0011 - val_rpn_bbox_loss: 0.0011 - val_mrcnn_class_loss: 0.0032 - val_mrcnn_bbox_loss: 0.0023 - val_mrcnn_mask_loss: 0.0318\n",
            "Epoch 18/25\n",
            "80/80 [==============================] - 57s 711ms/step - loss: 0.0417 - rpn_class_loss: 9.5849e-04 - rpn_bbox_loss: 0.0047 - mrcnn_class_loss: 0.0041 - mrcnn_bbox_loss: 0.0030 - mrcnn_mask_loss: 0.0290 - val_loss: 0.0352 - val_rpn_class_loss: 0.0018 - val_rpn_bbox_loss: 0.0042 - val_mrcnn_class_loss: 0.0027 - val_mrcnn_bbox_loss: 0.0022 - val_mrcnn_mask_loss: 0.0281\n",
            "Epoch 19/25\n",
            "80/80 [==============================] - 57s 708ms/step - loss: 0.0386 - rpn_class_loss: 0.0010 - rpn_bbox_loss: 0.0035 - mrcnn_class_loss: 0.0041 - mrcnn_bbox_loss: 0.0023 - mrcnn_mask_loss: 0.0278 - val_loss: 0.0378 - val_rpn_class_loss: 0.0011 - val_rpn_bbox_loss: 0.0049 - val_mrcnn_class_loss: 0.0036 - val_mrcnn_bbox_loss: 0.0026 - val_mrcnn_mask_loss: 0.0274\n",
            "Epoch 20/25\n",
            "80/80 [==============================] - 57s 709ms/step - loss: 0.0604 - rpn_class_loss: 0.0012 - rpn_bbox_loss: 0.0251 - mrcnn_class_loss: 0.0041 - mrcnn_bbox_loss: 0.0031 - mrcnn_mask_loss: 0.0269 - val_loss: 0.0473 - val_rpn_class_loss: 8.1151e-04 - val_rpn_bbox_loss: 0.0112 - val_mrcnn_class_loss: 0.0040 - val_mrcnn_bbox_loss: 0.0028 - val_mrcnn_mask_loss: 0.0253\n",
            "Epoch 21/25\n",
            "80/80 [==============================] - 57s 707ms/step - loss: 0.0694 - rpn_class_loss: 0.0013 - rpn_bbox_loss: 0.0344 - mrcnn_class_loss: 0.0038 - mrcnn_bbox_loss: 0.0027 - mrcnn_mask_loss: 0.0272 - val_loss: 0.0427 - val_rpn_class_loss: 7.2990e-04 - val_rpn_bbox_loss: 0.0070 - val_mrcnn_class_loss: 0.0027 - val_mrcnn_bbox_loss: 0.0017 - val_mrcnn_mask_loss: 0.0244\n",
            "Epoch 22/25\n",
            "80/80 [==============================] - 57s 711ms/step - loss: 0.0339 - rpn_class_loss: 9.3279e-04 - rpn_bbox_loss: 0.0021 - mrcnn_class_loss: 0.0034 - mrcnn_bbox_loss: 0.0013 - mrcnn_mask_loss: 0.0261 - val_loss: 0.0333 - val_rpn_class_loss: 0.0013 - val_rpn_bbox_loss: 5.0166e-04 - val_mrcnn_class_loss: 0.0029 - val_mrcnn_bbox_loss: 8.3013e-04 - val_mrcnn_mask_loss: 0.0260\n",
            "Epoch 23/25\n",
            "80/80 [==============================] - 57s 710ms/step - loss: 0.0335 - rpn_class_loss: 0.0012 - rpn_bbox_loss: 0.0011 - mrcnn_class_loss: 0.0037 - mrcnn_bbox_loss: 0.0012 - mrcnn_mask_loss: 0.0263 - val_loss: 0.0311 - val_rpn_class_loss: 8.5962e-04 - val_rpn_bbox_loss: 0.0011 - val_mrcnn_class_loss: 0.0022 - val_mrcnn_bbox_loss: 8.7510e-04 - val_mrcnn_mask_loss: 0.0264\n",
            "Epoch 24/25\n",
            "80/80 [==============================] - 57s 711ms/step - loss: 0.0324 - rpn_class_loss: 5.1714e-04 - rpn_bbox_loss: 0.0016 - mrcnn_class_loss: 0.0033 - mrcnn_bbox_loss: 0.0014 - mrcnn_mask_loss: 0.0256 - val_loss: 0.0268 - val_rpn_class_loss: 9.5651e-04 - val_rpn_bbox_loss: 0.0011 - val_mrcnn_class_loss: 0.0025 - val_mrcnn_bbox_loss: 0.0012 - val_mrcnn_mask_loss: 0.0236\n",
            "Epoch 25/25\n",
            "80/80 [==============================] - 57s 707ms/step - loss: 0.0323 - rpn_class_loss: 8.2536e-04 - rpn_bbox_loss: 0.0021 - mrcnn_class_loss: 0.0030 - mrcnn_bbox_loss: 0.0014 - mrcnn_mask_loss: 0.0250 - val_loss: 0.0325 - val_rpn_class_loss: 0.0011 - val_rpn_bbox_loss: 7.1241e-04 - val_mrcnn_class_loss: 0.0026 - val_mrcnn_bbox_loss: 0.0014 - val_mrcnn_mask_loss: 0.0231\n"
          ],
          "name": "stdout"
        }
      ]
    },
    {
      "cell_type": "markdown",
      "metadata": {
        "id": "8xCkw9QaN1co"
      },
      "source": [
        "## Check the Output\n",
        "Find the output directory name.  \n",
        "In this example it is: 'maskrcnn_config20200218T1359'"
      ]
    },
    {
      "cell_type": "code",
      "metadata": {
        "colab": {
          "base_uri": "https://localhost:8080/"
        },
        "id": "ylWm5b7NeZIn",
        "outputId": "1cb9156b-9b4b-4d05-804b-959f2aa8ac5d"
      },
      "source": [
        "!ls"
      ],
      "execution_count": 22,
      "outputs": [
        {
          "output_type": "stream",
          "text": [
            "assets\timages\t     maskrcnn_config20210403T1603  README.md\t     setup.cfg\n",
            "build\tLICENSE      mask_rcnn.egg-info\t\t   requirements.txt  setup.py\n",
            "dist\tMANIFEST.in  mrcnn\t\t\t   samples\n"
          ],
          "name": "stdout"
        }
      ]
    },
    {
      "cell_type": "code",
      "metadata": {
        "id": "GrlzT08QKbu_"
      },
      "source": [
        "#Move to the latest model directory\n",
        "os.chdir('./maskrcnn_config20210403T1603')"
      ],
      "execution_count": 24,
      "outputs": []
    },
    {
      "cell_type": "markdown",
      "metadata": {
        "id": "dTIhonZZVtIU"
      },
      "source": [
        "## Save Model Weights and History in Google Drive:\n",
        "Find the name of the latest model weights to save"
      ]
    },
    {
      "cell_type": "code",
      "metadata": {
        "colab": {
          "base_uri": "https://localhost:8080/"
        },
        "id": "knRZdxe1kRzQ",
        "outputId": "596d3d34-ebb9-4cd6-8b97-61d867801eca"
      },
      "source": [
        "!ls -lhrt"
      ],
      "execution_count": 25,
      "outputs": [
        {
          "output_type": "stream",
          "text": [
            "total 6.1G\n",
            "-rw-r--r-- 1 root root 245M Apr  3 16:07 mask_rcnn_maskrcnn_config_0001.h5\n",
            "-rw-r--r-- 1 root root 245M Apr  3 16:08 mask_rcnn_maskrcnn_config_0002.h5\n",
            "-rw-r--r-- 1 root root 245M Apr  3 16:09 mask_rcnn_maskrcnn_config_0003.h5\n",
            "-rw-r--r-- 1 root root 245M Apr  3 16:10 mask_rcnn_maskrcnn_config_0004.h5\n",
            "-rw-r--r-- 1 root root 245M Apr  3 16:12 mask_rcnn_maskrcnn_config_0005.h5\n",
            "-rw-r--r-- 1 root root 245M Apr  3 16:13 mask_rcnn_maskrcnn_config_0006.h5\n",
            "-rw-r--r-- 1 root root 245M Apr  3 16:14 mask_rcnn_maskrcnn_config_0007.h5\n",
            "-rw-r--r-- 1 root root 245M Apr  3 16:15 mask_rcnn_maskrcnn_config_0008.h5\n",
            "-rw-r--r-- 1 root root 245M Apr  3 16:16 mask_rcnn_maskrcnn_config_0009.h5\n",
            "-rw-r--r-- 1 root root 245M Apr  3 16:17 mask_rcnn_maskrcnn_config_0010.h5\n",
            "-rw-r--r-- 1 root root 245M Apr  3 16:18 mask_rcnn_maskrcnn_config_0011.h5\n",
            "-rw-r--r-- 1 root root 245M Apr  3 16:19 mask_rcnn_maskrcnn_config_0012.h5\n",
            "-rw-r--r-- 1 root root 245M Apr  3 16:20 mask_rcnn_maskrcnn_config_0013.h5\n",
            "-rw-r--r-- 1 root root 245M Apr  3 16:21 mask_rcnn_maskrcnn_config_0014.h5\n",
            "-rw-r--r-- 1 root root 245M Apr  3 16:22 mask_rcnn_maskrcnn_config_0015.h5\n",
            "-rw-r--r-- 1 root root 245M Apr  3 16:23 mask_rcnn_maskrcnn_config_0016.h5\n",
            "-rw-r--r-- 1 root root 245M Apr  3 16:24 mask_rcnn_maskrcnn_config_0017.h5\n",
            "-rw-r--r-- 1 root root 245M Apr  3 16:25 mask_rcnn_maskrcnn_config_0018.h5\n",
            "-rw-r--r-- 1 root root 245M Apr  3 16:26 mask_rcnn_maskrcnn_config_0019.h5\n",
            "-rw-r--r-- 1 root root 245M Apr  3 16:27 mask_rcnn_maskrcnn_config_0020.h5\n",
            "-rw-r--r-- 1 root root 245M Apr  3 16:28 mask_rcnn_maskrcnn_config_0021.h5\n",
            "-rw-r--r-- 1 root root 245M Apr  3 16:29 mask_rcnn_maskrcnn_config_0022.h5\n",
            "-rw-r--r-- 1 root root 245M Apr  3 16:30 mask_rcnn_maskrcnn_config_0023.h5\n",
            "-rw-r--r-- 1 root root 245M Apr  3 16:31 mask_rcnn_maskrcnn_config_0024.h5\n",
            "-rw-r--r-- 1 root root  72M Apr  3 16:32 events.out.tfevents.1617465856.26ea0069bbfd\n",
            "-rw-r--r-- 1 root root 245M Apr  3 16:32 mask_rcnn_maskrcnn_config_0025.h5\n"
          ],
          "name": "stdout"
        }
      ]
    },
    {
      "cell_type": "code",
      "metadata": {
        "id": "sfI0JFoqgDFO"
      },
      "source": [
        "now_str='20210403'\n",
        "\n",
        "try:\n",
        "  os.makedirs(homedir+'saved')\n",
        "except:\n",
        "  print('Save directory exists!')\n",
        "\n",
        "weights_fname =homedir+'saved/weights_Nissan_'+now_str+'.h5'\n",
        "history_fname =homedir+'saved/history_Nissan_'+now_str+'.json'\n",
        "\n",
        "model.keras_model.save_weights(weights_fname)\n",
        "\n",
        "with open(history_fname,\"w\") as f:\n",
        "   f.write(json.dumps(str(history)))\n",
        "   "
      ],
      "execution_count": 26,
      "outputs": []
    }
  ]
}